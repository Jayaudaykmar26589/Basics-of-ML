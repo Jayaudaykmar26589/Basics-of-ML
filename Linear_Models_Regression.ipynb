{
  "nbformat": 4,
  "nbformat_minor": 0,
  "metadata": {
    "colab": {
      "name": "Linear Models_Regression.ipynb",
      "provenance": []
    },
    "kernelspec": {
      "name": "python3",
      "display_name": "Python 3"
    }
  },
  "cells": [
    {
      "cell_type": "code",
      "metadata": {
        "colab": {
          "base_uri": "https://localhost:8080/"
        },
        "id": "vONAM9El7-gn",
        "outputId": "b62c3674-49f0-42d4-f7f3-e17a38939308"
      },
      "source": [
        "pip install scikit-learn"
      ],
      "execution_count": 5,
      "outputs": [
        {
          "output_type": "stream",
          "text": [
            "Requirement already satisfied: scikit-learn in /usr/local/lib/python3.6/dist-packages (0.22.2.post1)\n",
            "Requirement already satisfied: joblib>=0.11 in /usr/local/lib/python3.6/dist-packages (from scikit-learn) (0.17.0)\n",
            "Requirement already satisfied: scipy>=0.17.0 in /usr/local/lib/python3.6/dist-packages (from scikit-learn) (1.4.1)\n",
            "Requirement already satisfied: numpy>=1.11.0 in /usr/local/lib/python3.6/dist-packages (from scikit-learn) (1.18.5)\n"
          ],
          "name": "stdout"
        }
      ]
    },
    {
      "cell_type": "code",
      "metadata": {
        "colab": {
          "base_uri": "https://localhost:8080/"
        },
        "id": "87UigmEh8D2C",
        "outputId": "ba555610-59b6-4449-e206-2c06b2a973a4"
      },
      "source": [
        "pip install mglearn"
      ],
      "execution_count": 6,
      "outputs": [
        {
          "output_type": "stream",
          "text": [
            "Collecting mglearn\n",
            "\u001b[?25l  Downloading https://files.pythonhosted.org/packages/65/38/8aced26fce0b2ae82c3c87cd3b6105f38ca6d9d51704ecc44aa54473e6b9/mglearn-0.1.9.tar.gz (540kB)\n",
            "\r\u001b[K     |▋                               | 10kB 12.7MB/s eta 0:00:01\r\u001b[K     |█▏                              | 20kB 17.5MB/s eta 0:00:01\r\u001b[K     |█▉                              | 30kB 19.4MB/s eta 0:00:01\r\u001b[K     |██▍                             | 40kB 12.7MB/s eta 0:00:01\r\u001b[K     |███                             | 51kB 9.5MB/s eta 0:00:01\r\u001b[K     |███▋                            | 61kB 10.4MB/s eta 0:00:01\r\u001b[K     |████▎                           | 71kB 9.1MB/s eta 0:00:01\r\u001b[K     |████▉                           | 81kB 9.8MB/s eta 0:00:01\r\u001b[K     |█████▌                          | 92kB 9.5MB/s eta 0:00:01\r\u001b[K     |██████                          | 102kB 9.4MB/s eta 0:00:01\r\u001b[K     |██████▊                         | 112kB 9.4MB/s eta 0:00:01\r\u001b[K     |███████▎                        | 122kB 9.4MB/s eta 0:00:01\r\u001b[K     |███████▉                        | 133kB 9.4MB/s eta 0:00:01\r\u001b[K     |████████▌                       | 143kB 9.4MB/s eta 0:00:01\r\u001b[K     |█████████                       | 153kB 9.4MB/s eta 0:00:01\r\u001b[K     |█████████▊                      | 163kB 9.4MB/s eta 0:00:01\r\u001b[K     |██████████▎                     | 174kB 9.4MB/s eta 0:00:01\r\u001b[K     |███████████                     | 184kB 9.4MB/s eta 0:00:01\r\u001b[K     |███████████▌                    | 194kB 9.4MB/s eta 0:00:01\r\u001b[K     |████████████▏                   | 204kB 9.4MB/s eta 0:00:01\r\u001b[K     |████████████▊                   | 215kB 9.4MB/s eta 0:00:01\r\u001b[K     |█████████████▍                  | 225kB 9.4MB/s eta 0:00:01\r\u001b[K     |██████████████                  | 235kB 9.4MB/s eta 0:00:01\r\u001b[K     |██████████████▋                 | 245kB 9.4MB/s eta 0:00:01\r\u001b[K     |███████████████▏                | 256kB 9.4MB/s eta 0:00:01\r\u001b[K     |███████████████▊                | 266kB 9.4MB/s eta 0:00:01\r\u001b[K     |████████████████▍               | 276kB 9.4MB/s eta 0:00:01\r\u001b[K     |█████████████████               | 286kB 9.4MB/s eta 0:00:01\r\u001b[K     |█████████████████▋              | 296kB 9.4MB/s eta 0:00:01\r\u001b[K     |██████████████████▏             | 307kB 9.4MB/s eta 0:00:01\r\u001b[K     |██████████████████▉             | 317kB 9.4MB/s eta 0:00:01\r\u001b[K     |███████████████████▍            | 327kB 9.4MB/s eta 0:00:01\r\u001b[K     |████████████████████            | 337kB 9.4MB/s eta 0:00:01\r\u001b[K     |████████████████████▋           | 348kB 9.4MB/s eta 0:00:01\r\u001b[K     |█████████████████████▎          | 358kB 9.4MB/s eta 0:00:01\r\u001b[K     |█████████████████████▉          | 368kB 9.4MB/s eta 0:00:01\r\u001b[K     |██████████████████████▌         | 378kB 9.4MB/s eta 0:00:01\r\u001b[K     |███████████████████████         | 389kB 9.4MB/s eta 0:00:01\r\u001b[K     |███████████████████████▋        | 399kB 9.4MB/s eta 0:00:01\r\u001b[K     |████████████████████████▎       | 409kB 9.4MB/s eta 0:00:01\r\u001b[K     |████████████████████████▉       | 419kB 9.4MB/s eta 0:00:01\r\u001b[K     |█████████████████████████▌      | 430kB 9.4MB/s eta 0:00:01\r\u001b[K     |██████████████████████████      | 440kB 9.4MB/s eta 0:00:01\r\u001b[K     |██████████████████████████▊     | 450kB 9.4MB/s eta 0:00:01\r\u001b[K     |███████████████████████████▎    | 460kB 9.4MB/s eta 0:00:01\r\u001b[K     |████████████████████████████    | 471kB 9.4MB/s eta 0:00:01\r\u001b[K     |████████████████████████████▌   | 481kB 9.4MB/s eta 0:00:01\r\u001b[K     |█████████████████████████████▏  | 491kB 9.4MB/s eta 0:00:01\r\u001b[K     |█████████████████████████████▊  | 501kB 9.4MB/s eta 0:00:01\r\u001b[K     |██████████████████████████████▍ | 512kB 9.4MB/s eta 0:00:01\r\u001b[K     |███████████████████████████████ | 522kB 9.4MB/s eta 0:00:01\r\u001b[K     |███████████████████████████████▌| 532kB 9.4MB/s eta 0:00:01\r\u001b[K     |████████████████████████████████| 542kB 9.4MB/s \n",
            "\u001b[?25hRequirement already satisfied: numpy in /usr/local/lib/python3.6/dist-packages (from mglearn) (1.18.5)\n",
            "Requirement already satisfied: matplotlib in /usr/local/lib/python3.6/dist-packages (from mglearn) (3.2.2)\n",
            "Requirement already satisfied: scikit-learn in /usr/local/lib/python3.6/dist-packages (from mglearn) (0.22.2.post1)\n",
            "Requirement already satisfied: pandas in /usr/local/lib/python3.6/dist-packages (from mglearn) (1.1.5)\n",
            "Requirement already satisfied: pillow in /usr/local/lib/python3.6/dist-packages (from mglearn) (7.0.0)\n",
            "Requirement already satisfied: cycler in /usr/local/lib/python3.6/dist-packages (from mglearn) (0.10.0)\n",
            "Requirement already satisfied: imageio in /usr/local/lib/python3.6/dist-packages (from mglearn) (2.4.1)\n",
            "Requirement already satisfied: joblib in /usr/local/lib/python3.6/dist-packages (from mglearn) (0.17.0)\n",
            "Requirement already satisfied: python-dateutil>=2.1 in /usr/local/lib/python3.6/dist-packages (from matplotlib->mglearn) (2.8.1)\n",
            "Requirement already satisfied: kiwisolver>=1.0.1 in /usr/local/lib/python3.6/dist-packages (from matplotlib->mglearn) (1.3.1)\n",
            "Requirement already satisfied: pyparsing!=2.0.4,!=2.1.2,!=2.1.6,>=2.0.1 in /usr/local/lib/python3.6/dist-packages (from matplotlib->mglearn) (2.4.7)\n",
            "Requirement already satisfied: scipy>=0.17.0 in /usr/local/lib/python3.6/dist-packages (from scikit-learn->mglearn) (1.4.1)\n",
            "Requirement already satisfied: pytz>=2017.2 in /usr/local/lib/python3.6/dist-packages (from pandas->mglearn) (2018.9)\n",
            "Requirement already satisfied: six in /usr/local/lib/python3.6/dist-packages (from cycler->mglearn) (1.15.0)\n",
            "Building wheels for collected packages: mglearn\n",
            "  Building wheel for mglearn (setup.py) ... \u001b[?25l\u001b[?25hdone\n",
            "  Created wheel for mglearn: filename=mglearn-0.1.9-py2.py3-none-any.whl size=582638 sha256=18a089b2c0b0f37296f00ca53dbd3777d456f2e1552b9f6b362cbce56fb644df\n",
            "  Stored in directory: /root/.cache/pip/wheels/eb/a6/ea/a6a3716233fa62fc561259b5cb1e28f79e9ff3592c0adac5f0\n",
            "Successfully built mglearn\n",
            "Installing collected packages: mglearn\n",
            "Successfully installed mglearn-0.1.9\n"
          ],
          "name": "stdout"
        }
      ]
    },
    {
      "cell_type": "code",
      "metadata": {
        "colab": {
          "base_uri": "https://localhost:8080/"
        },
        "id": "FszO7i2n81u5",
        "outputId": "52761e89-8b44-4c7d-ee67-2b10e6a89b2d"
      },
      "source": [
        "pip install sklearn"
      ],
      "execution_count": 14,
      "outputs": [
        {
          "output_type": "stream",
          "text": [
            "Requirement already satisfied: sklearn in /usr/local/lib/python3.6/dist-packages (0.0)\n",
            "Requirement already satisfied: scikit-learn in /usr/local/lib/python3.6/dist-packages (from sklearn) (0.22.2.post1)\n",
            "Requirement already satisfied: numpy>=1.11.0 in /usr/local/lib/python3.6/dist-packages (from scikit-learn->sklearn) (1.18.5)\n",
            "Requirement already satisfied: scipy>=0.17.0 in /usr/local/lib/python3.6/dist-packages (from scikit-learn->sklearn) (1.4.1)\n",
            "Requirement already satisfied: joblib>=0.11 in /usr/local/lib/python3.6/dist-packages (from scikit-learn->sklearn) (0.17.0)\n"
          ],
          "name": "stdout"
        }
      ]
    },
    {
      "cell_type": "code",
      "metadata": {
        "id": "nwwDs2M67qH2"
      },
      "source": [
        "import mglearn as mg\r\n",
        "import numpy as np\r\n",
        "import matplotlib.pyplot as plt\r\n"
      ],
      "execution_count": 29,
      "outputs": []
    },
    {
      "cell_type": "code",
      "metadata": {
        "id": "Ei_m_nqe7iJe"
      },
      "source": [
        "from sklearn.linear_model import LinearRegression\r\n",
        "from sklearn.model_selection import train_test_split\r\n",
        "X, y = mg.datasets.make_wave(n_samples=60)\r\n"
      ],
      "execution_count": 17,
      "outputs": []
    },
    {
      "cell_type": "code",
      "metadata": {
        "id": "h-2aMbRD8fFj"
      },
      "source": [
        "X_train, X_test, y_train, y_test = train_test_split(X, y, random_state=42)\r\n",
        "lr = LinearRegression().fit(X_train, y_train)"
      ],
      "execution_count": 18,
      "outputs": []
    },
    {
      "cell_type": "code",
      "metadata": {
        "colab": {
          "base_uri": "https://localhost:8080/"
        },
        "id": "Ua4_Re799iLq",
        "outputId": "eeee205a-4b1b-4799-916f-c211401b52c2"
      },
      "source": [
        "print(\"lr.coef_: {}\".format(lr.coef_))\r\n",
        "print(\"lr.intercept_: {}\".format(lr.intercept_))"
      ],
      "execution_count": 19,
      "outputs": [
        {
          "output_type": "stream",
          "text": [
            "lr.coef_: [0.39390555]\n",
            "lr.intercept_: -0.031804343026759746\n"
          ],
          "name": "stdout"
        }
      ]
    },
    {
      "cell_type": "code",
      "metadata": {
        "colab": {
          "base_uri": "https://localhost:8080/"
        },
        "id": "8EVe_EBm9mlr",
        "outputId": "0054936e-2ae2-41e5-ddbb-dd17b24d4278"
      },
      "source": [
        "print(\"Training set score: {:.2f}\".format(lr.score(X_train, y_train)))\r\n",
        "print(\"Test set score: {:.2f}\".format(lr.score(X_test, y_test)))"
      ],
      "execution_count": 20,
      "outputs": [
        {
          "output_type": "stream",
          "text": [
            "Training set score: 0.67\n",
            "Test set score: 0.66\n"
          ],
          "name": "stdout"
        }
      ]
    },
    {
      "cell_type": "code",
      "metadata": {
        "id": "RoR6OpVZ9qUJ"
      },
      "source": [
        "X, y = mg.datasets.load_extended_boston()\r\n",
        "X_train, X_test, y_train, y_test = train_test_split(X, y, random_state=0)\r\n",
        "lr = LinearRegression().fit(X_train, y_train)"
      ],
      "execution_count": 23,
      "outputs": []
    },
    {
      "cell_type": "code",
      "metadata": {
        "colab": {
          "base_uri": "https://localhost:8080/"
        },
        "id": "3WJFjLDG-SCy",
        "outputId": "5d841634-6ccf-4823-acb7-616dd7c64a37"
      },
      "source": [
        "print(\"Training set score: {:.2f}\".format(lr.score(X_train, y_train)))\r\n",
        "print(\"Test set score: {:.2f}\".format(lr.score(X_test, y_test)))"
      ],
      "execution_count": 24,
      "outputs": [
        {
          "output_type": "stream",
          "text": [
            "Training set score: 0.95\n",
            "Test set score: 0.61\n"
          ],
          "name": "stdout"
        }
      ]
    },
    {
      "cell_type": "code",
      "metadata": {
        "colab": {
          "base_uri": "https://localhost:8080/"
        },
        "id": "OOFKyis__BVa",
        "outputId": "cf62af05-5311-4f9d-ed11-b37e27287bf0"
      },
      "source": [
        "from sklearn.linear_model import Ridge\r\n",
        "ridge = Ridge().fit(X_train, y_train)\r\n",
        "print(\"Training set score: {:.2f}\".format(ridge.score(X_train, y_train)))\r\n",
        "print(\"Test set score: {:.2f}\".format(ridge.score(X_test, y_test)))"
      ],
      "execution_count": 25,
      "outputs": [
        {
          "output_type": "stream",
          "text": [
            "Training set score: 0.89\n",
            "Test set score: 0.75\n"
          ],
          "name": "stdout"
        }
      ]
    },
    {
      "cell_type": "code",
      "metadata": {
        "colab": {
          "base_uri": "https://localhost:8080/"
        },
        "id": "1wKOpaV2_zlC",
        "outputId": "5cabd0b1-48c8-4f89-8609-a00a19bf47d8"
      },
      "source": [
        "ridge10 = Ridge(alpha=10).fit(X_train, y_train)\r\n",
        "print(\"Training set score: {:.2f}\".format(ridge10.score(X_train, y_train)))\r\n",
        "print(\"Test set score: {:.2f}\".format(ridge10.score(X_test, y_test)))"
      ],
      "execution_count": 26,
      "outputs": [
        {
          "output_type": "stream",
          "text": [
            "Training set score: 0.79\n",
            "Test set score: 0.64\n"
          ],
          "name": "stdout"
        }
      ]
    },
    {
      "cell_type": "code",
      "metadata": {
        "colab": {
          "base_uri": "https://localhost:8080/"
        },
        "id": "PuvUFXY0AL3k",
        "outputId": "a16a8f91-103d-49e2-9f28-a4e148d04d9e"
      },
      "source": [
        "ridge01 = Ridge(alpha=0.1).fit(X_train, y_train)\r\n",
        "print(\"Training set score: {:.2f}\".format(ridge01.score(X_train, y_train)))\r\n",
        "print(\"Test set score: {:.2f}\".format(ridge01.score(X_test, y_test)))"
      ],
      "execution_count": 27,
      "outputs": [
        {
          "output_type": "stream",
          "text": [
            "Training set score: 0.93\n",
            "Test set score: 0.77\n"
          ],
          "name": "stdout"
        }
      ]
    },
    {
      "cell_type": "code",
      "metadata": {
        "colab": {
          "base_uri": "https://localhost:8080/",
          "height": 296
        },
        "id": "6kRwF0dfAksX",
        "outputId": "fe227f2e-bffa-46fb-dba1-688e86fa762c"
      },
      "source": [
        "plt.plot(ridge.coef_, 's', label=\"Ridge alpha=1\")\r\n",
        "plt.plot(ridge10.coef_, '^', label=\"Ridge alpha=10\")\r\n",
        "plt.plot(ridge01.coef_, 'v', label=\"Ridge alpha=0.1\")\r\n",
        "plt.plot(lr.coef_, 'o', label=\"LinearRegression\")\r\n",
        "plt.xlabel(\"Coefficient index\")\r\n",
        "plt.ylabel(\"Coefficient magnitude\")\r\n",
        "plt.hlines(0, 0, len(lr.coef_))\r\n",
        "plt.ylim(-25, 25)\r\n",
        "plt.legend()"
      ],
      "execution_count": 30,
      "outputs": [
        {
          "output_type": "execute_result",
          "data": {
            "text/plain": [
              "<matplotlib.legend.Legend at 0x7f7868b325c0>"
            ]
          },
          "metadata": {
            "tags": []
          },
          "execution_count": 30
        },
        {
          "output_type": "display_data",
          "data": {
            "image/png": "[encoded data removed]",
            "text/plain": [
              "<Figure size 432x288 with 1 Axes>"
            ]
          },
          "metadata": {
            "tags": [],
            "needs_background": "light"
          }
        }
      ]
    },
    {
      "cell_type": "code",
      "metadata": {
        "colab": {
          "base_uri": "https://localhost:8080/",
          "height": 325
        },
        "id": "1iIZP0M9A7eV",
        "outputId": "d538e3c6-1920-4717-fe14-6f931bc32524"
      },
      "source": [
        "mg.plots.plot_ridge_n_samples()"
      ],
      "execution_count": 31,
      "outputs": [
        {
          "output_type": "display_data",
          "data": {
            "image/png": "[encoded data removed]",
            "text/plain": [
              "<Figure size 432x288 with 1 Axes>"
            ]
          },
          "metadata": {
            "tags": [],
            "needs_background": "light"
          }
        }
      ]
    },
    {
      "cell_type": "code",
      "metadata": {
        "colab": {
          "base_uri": "https://localhost:8080/"
        },
        "id": "N4O36zoBDBjT",
        "outputId": "ef10987c-e8f8-47ee-fc46-d9ebf43dd8f5"
      },
      "source": [
        "from sklearn.linear_model import Lasso\r\n",
        "lasso = Lasso().fit(X_train, y_train)\r\n",
        "print(\"Training set score: {:.2f}\".format(lasso.score(X_train, y_train)))\r\n",
        "print(\"Test set score: {:.2f}\".format(lasso.score(X_test, y_test)))\r\n",
        "print(\"Number of features used: {}\".format(np.sum(lasso.coef_ != 0)))"
      ],
      "execution_count": 32,
      "outputs": [
        {
          "output_type": "stream",
          "text": [
            "Training set score: 0.29\n",
            "Test set score: 0.21\n",
            "Number of features used: 4\n"
          ],
          "name": "stdout"
        }
      ]
    },
    {
      "cell_type": "code",
      "metadata": {
        "colab": {
          "base_uri": "https://localhost:8080/"
        },
        "id": "2DG753ZeDTkL",
        "outputId": "e838ece9-7495-42d7-8553-f80836749804"
      },
      "source": [
        "# we increase the default setting of \"max_iter\",\r\n",
        "# otherwise the model would warn us that we should increase max_iter.\r\n",
        "lasso001 = Lasso(alpha=0.01, max_iter=100000).fit(X_train, y_train)\r\n",
        "print(\"Training set score: {:.2f}\".format(lasso001.score(X_train, y_train)))\r\n",
        "print(\"Test set score: {:.2f}\".format(lasso001.score(X_test, y_test)))\r\n",
        "print(\"Number of features used: {}\".format(np.sum(lasso001.coef_ != 0)))"
      ],
      "execution_count": 33,
      "outputs": [
        {
          "output_type": "stream",
          "text": [
            "Training set score: 0.90\n",
            "Test set score: 0.77\n",
            "Number of features used: 33\n"
          ],
          "name": "stdout"
        }
      ]
    },
    {
      "cell_type": "code",
      "metadata": {
        "colab": {
          "base_uri": "https://localhost:8080/"
        },
        "id": "LbOpo-xSDdJf",
        "outputId": "5ae8c374-af56-497e-91ba-110eb184fb70"
      },
      "source": [
        "lasso00001 = Lasso(alpha=0.0001, max_iter=100000).fit(X_train, y_train)\r\n",
        "print(\"Training set score: {:.2f}\".format(lasso00001.score(X_train, y_train)))\r\n",
        "print(\"Test set score: {:.2f}\".format(lasso00001.score(X_test, y_test)))\r\n",
        "print(\"Number of features used: {}\".format(np.sum(lasso00001.coef_ != 0)))"
      ],
      "execution_count": 34,
      "outputs": [
        {
          "output_type": "stream",
          "text": [
            "Training set score: 0.95\n",
            "Test set score: 0.64\n",
            "Number of features used: 96\n"
          ],
          "name": "stdout"
        }
      ]
    },
    {
      "cell_type": "code",
      "metadata": {
        "colab": {
          "base_uri": "https://localhost:8080/",
          "height": 340
        },
        "id": "qXi_oYGpD4hK",
        "outputId": "bdb41ba8-817b-45aa-cf3b-1081d5863b3b"
      },
      "source": [
        "plt.plot(lasso.coef_, 's', label=\"Lasso alpha=1\")\r\n",
        "plt.plot(lasso001.coef_, '^', label=\"Lasso alpha=0.01\")\r\n",
        "plt.plot(lasso00001.coef_, 'v', label=\"Lasso alpha=0.0001\")\r\n",
        "plt.plot(ridge01.coef_, 'o', label=\"Ridge alpha=0.1\")\r\n",
        "plt.legend(ncol=2, loc=(0, 1.05))\r\n",
        "plt.ylim(-25, 25)\r\n",
        "plt.xlabel(\"Coefficient index\")\r\n",
        "plt.ylabel(\"Coefficient magnitude\")"
      ],
      "execution_count": 35,
      "outputs": [
        {
          "output_type": "execute_result",
          "data": {
            "text/plain": [
              "Text(0, 0.5, 'Coefficient magnitude')"
            ]
          },
          "metadata": {
            "tags": []
          },
          "execution_count": 35
        },
        {
          "output_type": "display_data",
          "data": {
            "image/png": "[encoded data removed]",
            "text/plain": [
              "<Figure size 432x288 with 1 Axes>"
            ]
          },
          "metadata": {
            "tags": [],
            "needs_background": "light"
          }
        }
      ]
    }
  ]
}